{
  "nbformat": 4,
  "nbformat_minor": 0,
  "metadata": {
    "colab": {
      "provenance": [],
      "authorship_tag": "ABX9TyMUrtIttxQDzcXXqil229VV",
      "include_colab_link": true
    },
    "kernelspec": {
      "name": "python3",
      "display_name": "Python 3"
    },
    "language_info": {
      "name": "python"
    }
  },
  "cells": [
    {
      "cell_type": "markdown",
      "metadata": {
        "id": "view-in-github",
        "colab_type": "text"
      },
      "source": [
        "<a href=\"https://colab.research.google.com/github/priyanshu-buwade/SMES_IoT_Assignments/blob/main/SMES_Predict_Temperature.ipynb\" target=\"_parent\"><img src=\"https://colab.research.google.com/assets/colab-badge.svg\" alt=\"Open In Colab\"/></a>"
      ]
    },
    {
      "cell_type": "markdown",
      "source": [
        "# **Using Linear Regression predict the temperature of next year based on previous 10 years temperature data.**\n",
        "\n",
        "---"
      ],
      "metadata": {
        "id": "S6w9G6N3axu1"
      }
    },
    {
      "cell_type": "markdown",
      "source": [
        "Import all the necessary packages."
      ],
      "metadata": {
        "id": "Bo5sCf_tbNOX"
      }
    },
    {
      "cell_type": "code",
      "source": [
        "import numpy as np\n",
        "import pandas as pd\n",
        "import matplotlib.pyplot as plt\n",
        "from sklearn.linear_model import LinearRegression\n",
        "from sklearn.metrics import mean_squared_error\n",
        "from sklearn.preprocessing import MinMaxScaler, StandardScaler"
      ],
      "metadata": {
        "id": "3hUgvpfpbscW"
      },
      "execution_count": null,
      "outputs": []
    },
    {
      "cell_type": "markdown",
      "source": [
        "Prepairing Data."
      ],
      "metadata": {
        "id": "q_eA_Brobu5L"
      }
    },
    {
      "cell_type": "code",
      "source": [
        "data = {\n",
        "    'Year': [2015, 2016, 2017, 2018, 2019, 2020, 2021, 2022, 2023],\n",
        "    'Temperature': [33, 35, 34, 33.5, 31, 35, 40, 37, 36]\n",
        "}\n",
        "df = pd.DataFrame(data)"
      ],
      "metadata": {
        "id": "RYedOvm0b53r"
      },
      "execution_count": null,
      "outputs": []
    },
    {
      "cell_type": "markdown",
      "source": [
        "Calculating Mean and Standard Deviation."
      ],
      "metadata": {
        "id": "fZWxGWB9b6f2"
      }
    },
    {
      "cell_type": "code",
      "source": [
        "mean_year = np.mean(df['Year'])\n",
        "mean_temp = np.mean(df['Temperature'])\n",
        "std_year = np.std(df['Year'], ddof=1)\n",
        "std_temp = np.std(df['Temperature'], ddof=1)"
      ],
      "metadata": {
        "id": "WN_kLwq0cBNF"
      },
      "execution_count": null,
      "outputs": []
    },
    {
      "cell_type": "markdown",
      "source": [
        "Calculating Coefficiants (β0, β1)"
      ],
      "metadata": {
        "id": "Ko4FKOS2caiz"
      }
    },
    {
      "cell_type": "code",
      "source": [
        "X = df['Year'].values.reshape(-1, 1)\n",
        "y = df['Temperature'].values\n",
        "\n",
        "model = LinearRegression()\n",
        "model.fit(X, y)\n",
        "\n",
        "beta1 = model.coef_[0]  # Slope\n",
        "beta0 = model.intercept_  # Intercept"
      ],
      "metadata": {
        "id": "pbBqdE5GctBm"
      },
      "execution_count": null,
      "outputs": []
    },
    {
      "cell_type": "markdown",
      "source": [
        "Predicting Temperature for year 2024."
      ],
      "metadata": {
        "id": "pT2bJ8FUcu6u"
      }
    },
    {
      "cell_type": "code",
      "source": [
        "year_to_predict = 2024\n",
        "predicted_temp = beta0 + beta1 * year_to_predict"
      ],
      "metadata": {
        "id": "kkLU_stGc0wc"
      },
      "execution_count": null,
      "outputs": []
    },
    {
      "cell_type": "markdown",
      "source": [
        "Calculating Residuals and Mean Squared Error (MSE)."
      ],
      "metadata": {
        "id": "Lbp8VBpnc47_"
      }
    },
    {
      "cell_type": "code",
      "source": [
        "predictions = model.predict(X)\n",
        "residuals = y - predictions\n",
        "mse = mean_squared_error(y, predictions)"
      ],
      "metadata": {
        "id": "9-XZesAudHKk"
      },
      "execution_count": null,
      "outputs": []
    },
    {
      "cell_type": "markdown",
      "source": [
        "Normalizing Data (MinMax, Z-Score)."
      ],
      "metadata": {
        "id": "XqAwR23qdK7B"
      }
    },
    {
      "cell_type": "code",
      "source": [
        "min_max_scaler = MinMaxScaler()\n",
        "z_score_scaler = StandardScaler()\n",
        "\n",
        "normalized_temp_minmax = min_max_scaler.fit_transform(df[['Temperature']])\n",
        "normalized_temp_zscore = z_score_scaler.fit_transform(df[['Temperature']])"
      ],
      "metadata": {
        "id": "imoxP15kdSMa"
      },
      "execution_count": null,
      "outputs": []
    },
    {
      "cell_type": "markdown",
      "source": [
        "Verifying Linearity of Error."
      ],
      "metadata": {
        "id": "nActTDZvdWTu"
      }
    },
    {
      "cell_type": "code",
      "source": [
        "plt.scatter(predictions, residuals)\n",
        "plt.axhline(0, color='black', linewidth=0.5, linestyle='--')\n",
        "plt.title('Residuals vs Predicted Values')\n",
        "plt.xlabel('Predicted Temperature (°C)')\n",
        "plt.ylabel('Residuals (°C)')\n",
        "plt.grid()\n",
        "plt.show()"
      ],
      "metadata": {
        "colab": {
          "base_uri": "https://localhost:8080/",
          "height": 472
        },
        "id": "Rkp67QIydbHb",
        "outputId": "bf2f9128-6495-48d4-9360-c05082733551"
      },
      "execution_count": null,
      "outputs": [
        {
          "output_type": "display_data",
          "data": {
            "text/plain": [
              "<Figure size 640x480 with 1 Axes>"
            ],
            "image/png": "[encoded data removed]"
          },
          "metadata": {}
        }
      ]
    },
    {
      "cell_type": "markdown",
      "source": [
        "Output Results"
      ],
      "metadata": {
        "id": "xqHvKPSFdeKi"
      }
    },
    {
      "cell_type": "code",
      "source": [
        "print(f\"Predicted temperature in 2024: {predicted_temp:.2f}°C\")\n",
        "print(f\"Mean Squared Error (MSE): {mse:.2f}\")\n",
        "print(f\"Normalized Temperature (Min-Max): {normalized_temp_minmax.flatten()}\")\n",
        "print(f\"Normalized Temperature (Z-Score): {normalized_temp_zscore.flatten()}\")"
      ],
      "metadata": {
        "colab": {
          "base_uri": "https://localhost:8080/"
        },
        "id": "siEIJER1dgXY",
        "outputId": "7c7fed69-7174-4b57-a073-dc609653a040"
      },
      "execution_count": null,
      "outputs": [
        {
          "output_type": "stream",
          "name": "stdout",
          "text": [
            "Predicted temperature in 2024: 37.57°C\n",
            "Mean Squared Error (MSE): 4.08\n",
            "Normalized Temperature (Min-Max): [0.22222222 0.44444444 0.33333333 0.27777778 0.         0.44444444\n",
            " 1.         0.66666667 0.55555556]\n",
            "Normalized Temperature (Z-Score): [-0.79959541  0.02284558 -0.38837491 -0.59398516 -1.6220364   0.02284558\n",
            "  2.07894806  0.84528658  0.43406608]\n"
          ]
        }
      ]
    }
  ]
}