{
  "nbformat": 4,
  "nbformat_minor": 0,
  "metadata": {
    "colab": {
      "provenance": [],
      "authorship_tag": "ABX9TyPhBFUjf2Ysp6zQMwTYFmzS",
      "include_colab_link": true
    },
    "kernelspec": {
      "name": "python3",
      "display_name": "Python 3"
    },
    "language_info": {
      "name": "python"
    }
  },
  "cells": [
    {
      "cell_type": "markdown",
      "metadata": {
        "id": "view-in-github",
        "colab_type": "text"
      },
      "source": [
        "<a href=\"https://colab.research.google.com/github/priyanshu-buwade/SMES_IoT_Assignments/blob/main/SMES_Current_Temperature.ipynb\" target=\"_parent\"><img src=\"https://colab.research.google.com/assets/colab-badge.svg\" alt=\"Open In Colab\"/></a>"
      ]
    },
    {
      "cell_type": "markdown",
      "source": [
        "#**Parse JSON weather data to calculate current temperature and humidity of Bhopal's using API from www.openweathermap.net. The coordinate of Bhopal's is 23.2599°N, 77.4126°E.**\n",
        "\n",
        "---"
      ],
      "metadata": {
        "id": "OmGcvyrzH4pV"
      }
    },
    {
      "cell_type": "markdown",
      "source": [
        "# **Python Code**"
      ],
      "metadata": {
        "id": "HEc4PHD9y0ur"
      }
    },
    {
      "cell_type": "markdown",
      "source": [
        "Importing all the necessary packages for the code."
      ],
      "metadata": {
        "id": "E4yHT_k2Islb"
      }
    },
    {
      "cell_type": "code",
      "source": [
        "import requests\n",
        "import json\n",
        "from datetime import datetime\n",
        "import pytz"
      ],
      "metadata": {
        "id": "4d1lFq91D0vT"
      },
      "execution_count": null,
      "outputs": []
    },
    {
      "cell_type": "markdown",
      "source": [
        "Connecting to the OpenWeatherMap to get the required data in **JSON** formate."
      ],
      "metadata": {
        "id": "8FbyW_hvI5jO"
      }
    },
    {
      "cell_type": "code",
      "source": [
        "def get_weather(api_key, lat,lon):\n",
        "  base_url = f\"https://api.openweathermap.org/data/2.5/weather?lat={lat}&lon={lon}&appid={api_key}&units=metric\"\n",
        "  try:\n",
        "    response = requests.get(base_url)\n",
        "    # Check if the request was successful\n",
        "    if response.status_code == 200:\n",
        "      weather_data = response.json()\n",
        "      return weather_data\n",
        "    else:\n",
        "      print(f\"Error: {response.status_code}, {response.text}\")\n",
        "      return None\n",
        "  except Exception as e:\n",
        "    print(f\"Error occured: {e}\")"
      ],
      "metadata": {
        "id": "a0HMQG33D6R7"
      },
      "execution_count": null,
      "outputs": []
    },
    {
      "cell_type": "markdown",
      "source": [
        "Creating function to parse the required data from the JSON file."
      ],
      "metadata": {
        "id": "CFaI6csiJKvz"
      }
    },
    {
      "cell_type": "code",
      "source": [
        "def parse_weather(weather_data):\n",
        "  temperature = weather_data[\"main\"][\"temp\"]\n",
        "  humidity = weather_data[\"main\"][\"humidity\"]\n",
        "  return temperature, humidity"
      ],
      "metadata": {
        "id": "QeJfWP6LD_Yb"
      },
      "execution_count": null,
      "outputs": []
    },
    {
      "cell_type": "markdown",
      "source": [
        "Creating function to parse date and time from the JSON and converting it in the IST (Indian Standard Time) formate."
      ],
      "metadata": {
        "id": "Njfhe5H7JZd6"
      }
    },
    {
      "cell_type": "code",
      "source": [
        "def get_current_datetime_in_ist():\n",
        "  # Define the IST timezone\n",
        "  ist = pytz.timezone('Asia/Kolkata')\n",
        "  # Get the current time in UTC\n",
        "  now_utc = datetime.now(pytz.utc)\n",
        "  # Convert the time to IST\n",
        "  now_ist = now_utc.astimezone(ist)\n",
        "  # Format it as a readable string\n",
        "  return now_ist.strftime(\"%Y-%m-%d %H:%M:%S\")"
      ],
      "metadata": {
        "id": "1lapurYtFgUU"
      },
      "execution_count": null,
      "outputs": []
    },
    {
      "cell_type": "markdown",
      "source": [
        "Initializing variables reqired such as **Latitude** lat, **Longitude** lan and **API Key** api_key."
      ],
      "metadata": {
        "id": "K4YZe-UgJtI7"
      }
    },
    {
      "cell_type": "code",
      "source": [
        "api_key = \"8a4fbe902f0bfb72ed481063bdcce2ec\"\n",
        "city = \"Bhopal\"\n",
        "lat = 23.2599\n",
        "lon= 77.4126\n",
        "weather_data = get_weather(api_key, lat,lon)"
      ],
      "metadata": {
        "id": "fpT6_d6lECA6"
      },
      "execution_count": null,
      "outputs": []
    },
    {
      "cell_type": "markdown",
      "source": [
        "Finally printing the **Current Date, Time, Temperature and Humidity** of **Bhopal** city."
      ],
      "metadata": {
        "id": "NJUeOZvXKCRD"
      }
    },
    {
      "cell_type": "code",
      "source": [
        "if weather_data:\n",
        "  temperature, humidity = parse_weather(weather_data)\n",
        "  current_datetime_ist = get_current_datetime_in_ist()\n",
        "  print(f\"Current date and time (IST): {current_datetime_ist}\")\n",
        "  print(f\"Current temperature in {city}: {temperature}°C\")\n",
        "  print(f\"Current humidity in {city}: {humidity}%\")"
      ],
      "metadata": {
        "id": "j83jmuxnEFvC",
        "colab": {
          "base_uri": "https://localhost:8080/"
        },
        "outputId": "a84c6e41-1e5e-494d-b900-091d5b728628"
      },
      "execution_count": null,
      "outputs": [
        {
          "output_type": "stream",
          "name": "stdout",
          "text": [
            "Current date and time (IST): 2024-09-29 12:26:35\n",
            "Current temperature in Bhopal: 28.18°C\n",
            "Current humidity in Bhopal: 69%\n"
          ]
        }
      ]
    },
    {
      "cell_type": "markdown",
      "source": [
        "# **Output**"
      ],
      "metadata": {
        "id": "rUgtzuF0y6z_"
      }
    },
    {
      "cell_type": "markdown",
      "source": [
        "**Output** of the code will look like -\n",
        "\n",
        "Current date and time (IST): 2024-09-11 15:26:14\n",
        "\n",
        "Current temperature in Bhopal: 29.18°C\n",
        "\n",
        "Current humidity in Bhopal: 65%"
      ],
      "metadata": {
        "id": "0gpgH-78xJ-K"
      }
    }
  ]
}